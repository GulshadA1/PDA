{
  "metadata": {
    "language_info": {
      "codemirror_mode": {
        "name": "python",
        "version": 3
      },
      "file_extension": ".py",
      "mimetype": "text/x-python",
      "name": "python",
      "nbconvert_exporter": "python",
      "pygments_lexer": "ipython3",
      "version": "3.8"
    },
    "kernelspec": {
      "name": "python",
      "display_name": "Python (Pyodide)",
      "language": "python"
    }
  },
  "nbformat_minor": 4,
  "nbformat": 4,
  "cells": [
    {
      "cell_type": "code",
      "source": "import re\ntxt = \"It is raining is Spain and the world is celebrating\"\nif x:\n    print()",
      "metadata": {
        "trusted": true
      },
      "execution_count": 1,
      "outputs": [
        {
          "ename": "<class 'NameError'>",
          "evalue": "name 'x' is not defined",
          "traceback": [
            "\u001b[0;31m---------------------------------------------------------------------------\u001b[0m",
            "\u001b[0;31mNameError\u001b[0m                                 Traceback (most recent call last)",
            "Cell \u001b[0;32mIn[1], line 3\u001b[0m\n\u001b[1;32m      1\u001b[0m \u001b[38;5;28;01mimport\u001b[39;00m \u001b[38;5;21;01mre\u001b[39;00m\n\u001b[1;32m      2\u001b[0m txt \u001b[38;5;241m=\u001b[39m \u001b[38;5;124m\"\u001b[39m\u001b[38;5;124mIt is raining is Spain and the world is celebrating\u001b[39m\u001b[38;5;124m\"\u001b[39m\n\u001b[0;32m----> 3\u001b[0m \u001b[38;5;28;01mif\u001b[39;00m \u001b[43mx\u001b[49m:\n\u001b[1;32m      4\u001b[0m     \u001b[38;5;28mprint\u001b[39m()\n",
            "\u001b[0;31mNameError\u001b[0m: name 'x' is not defined"
          ],
          "output_type": "error"
        }
      ]
    },
    {
      "cell_type": "code",
      "source": "import re\ntxt = \"The it is raining in the Spain and The world is celebrating\"\nx = re.findall(\"\\AThe\",txt)\nprint(x)\nif x:\n    print(\"Yes, there is a match!\")\nelse: \n    print(\"No match\")",
      "metadata": {
        "trusted": true
      },
      "execution_count": 3,
      "outputs": [
        {
          "name": "stdout",
          "text": "['The']\nYes, there is a match!\n",
          "output_type": "stream"
        }
      ]
    },
    {
      "cell_type": "code",
      "source": "match = re.search(r'portal', 'A computer science \\ portal for Education')\nprint (match)",
      "metadata": {
        "trusted": true
      },
      "execution_count": 4,
      "outputs": [
        {
          "name": "stdout",
          "text": "<re.Match object; span=(21, 27), match='portal'>\n",
          "output_type": "stream"
        }
      ]
    },
    {
      "cell_type": "code",
      "source": "print(match.group())",
      "metadata": {
        "trusted": true
      },
      "execution_count": 5,
      "outputs": [
        {
          "name": "stdout",
          "text": "portal\n",
          "output_type": "stream"
        }
      ]
    },
    {
      "cell_type": "code",
      "source": "print('Strat Index: ' , match.start())\nprint('End Index: ' , match.end())",
      "metadata": {
        "trusted": true
      },
      "execution_count": 6,
      "outputs": [
        {
          "name": "stdout",
          "text": "Strat Index:  21\nEnd Index:  27\n",
          "output_type": "stream"
        }
      ]
    },
    {
      "cell_type": "code",
      "source": "print(re.findall(r'[Ee]ducation', 'Education of education: \\ A computer science portal for education'))",
      "metadata": {
        "trusted": true
      },
      "execution_count": 9,
      "outputs": [
        {
          "name": "stdout",
          "text": "['Education', 'education', 'education']\n",
          "output_type": "stream"
        }
      ]
    },
    {
      "cell_type": "code",
      "source": "print('Range',re.search(r'[a-zA-Z]', 'x'))\n",
      "metadata": {
        "trusted": true
      },
      "execution_count": 10,
      "outputs": [
        {
          "name": "stdout",
          "text": "Range <re.Match object; span=(0, 1), match='x'>\n",
          "output_type": "stream"
        }
      ]
    },
    {
      "cell_type": "code",
      "source": " x = range( 5,9)\nfor a in x:\n    print(a)",
      "metadata": {
        "trusted": true
      },
      "execution_count": 11,
      "outputs": [
        {
          "name": "stdout",
          "text": "5\n6\n7\n8\n",
          "output_type": "stream"
        }
      ]
    },
    {
      "cell_type": "code",
      "source": "x = range(3,30,3)\nfor a in x:\n    print(a)",
      "metadata": {
        "trusted": true
      },
      "execution_count": 14,
      "outputs": [
        {
          "name": "stdout",
          "text": "3\n6\n9\n12\n15\n18\n21\n24\n27\n",
          "output_type": "stream"
        }
      ]
    },
    {
      "cell_type": "code",
      "source": "print(re.search(r'[^a-z]', 'c'))",
      "metadata": {
        "trusted": true
      },
      "execution_count": 31,
      "outputs": [
        {
          "name": "stdout",
          "text": "None\n",
          "output_type": "stream"
        }
      ]
    },
    {
      "cell_type": "code",
      "source": "print(re.search(r'C[^l]', 'Calass'))",
      "metadata": {
        "trusted": true
      },
      "execution_count": 35,
      "outputs": [
        {
          "name": "stdout",
          "text": "<re.Match object; span=(0, 2), match='Ca'>\n",
          "output_type": "stream"
        }
      ]
    },
    {
      "cell_type": "code",
      "source": "import re\nmatch = re.search(r'^is', 'This is the month')\nprint('Beg. of String:', match)\n",
      "metadata": {
        "trusted": true
      },
      "execution_count": 2,
      "outputs": [
        {
          "name": "stdout",
          "text": "Beg. of String: None\n",
          "output_type": "stream"
        }
      ]
    },
    {
      "cell_type": "code",
      "source": "match = re.search(r'^is', 'is the month')\nprint('Beg. of String:', match)\n\n",
      "metadata": {
        "trusted": true
      },
      "execution_count": 3,
      "outputs": [
        {
          "name": "stdout",
          "text": "Beg. of String: <re.Match object; span=(0, 2), match='is'>\n",
          "output_type": "stream"
        }
      ]
    },
    {
      "cell_type": "code",
      "source": "match = re.search(r'education$', 'Compute science portal for education')\nprint('End of String:', match)",
      "metadata": {
        "trusted": true
      },
      "execution_count": 5,
      "outputs": [
        {
          "name": "stdout",
          "text": "End of String: <re.Match object; span=(27, 36), match='education'>\n",
          "output_type": "stream"
        }
      ]
    },
    {
      "cell_type": "code",
      "source": "print('Any Character', re.search(r'p.th.n', 'python 3'))",
      "metadata": {
        "trusted": true
      },
      "execution_count": 6,
      "outputs": [
        {
          "name": "stdout",
          "text": "Any Character <re.Match object; span=(0, 6), match='python'>\n",
          "output_type": "stream"
        }
      ]
    },
    {
      "cell_type": "code",
      "source": "print('Color',re.search(r'colou?r', 'color'))\nprint('Colour',re.search(r'colou?r', 'colour'))\n",
      "metadata": {
        "trusted": true
      },
      "execution_count": 7,
      "outputs": [
        {
          "name": "stdout",
          "text": "Color <re.Match object; span=(0, 5), match='color'>\nColour <re.Match object; span=(0, 6), match='colour'>\n",
          "output_type": "stream"
        }
      ]
    },
    {
      "cell_type": "code",
      "source": "print('Date{mm-dd-yyyy}:', re.search(r'[\\d]{2}-[\\d]{2}-[\\d]{4}','13-07-2023'))",
      "metadata": {
        "trusted": true
      },
      "execution_count": 8,
      "outputs": [
        {
          "name": "stdout",
          "text": "Date{mm-dd-yyyy}: <re.Match object; span=(0, 10), match='13-07-2023'>\n",
          "output_type": "stream"
        }
      ]
    },
    {
      "cell_type": "code",
      "source": "print('Three Digit:', re.search(r'[\\d]{3,4}', '189'))\nprint('Four Digit:', re.search(r'[\\d]{3,4}', '2145'))\n",
      "metadata": {
        "trusted": true
      },
      "execution_count": 9,
      "outputs": [
        {
          "name": "stdout",
          "text": "Three Digit: <re.Match object; span=(0, 3), match='189'>\nFour Digit: <re.Match object; span=(0, 4), match='2145'>\n",
          "output_type": "stream"
        }
      ]
    },
    {
      "cell_type": "code",
      "source": "print(re.search(r'[\\d]{1,}','5th Floor, B-218,\\Sector-136, Noida, Uttar Pradesh - 201405'))\n",
      "metadata": {
        "trusted": true
      },
      "execution_count": 10,
      "outputs": [
        {
          "name": "stdout",
          "text": "<re.Match object; span=(0, 1), match='5'>\n",
          "output_type": "stream"
        }
      ]
    },
    {
      "cell_type": "code",
      "source": "print(re.search(r'[\\d]+','5th Floor, B-218,\\\nSector-136, Noida, Uttar Pradesh - 201405'))\n\ngrp = re.search(r'([\\d]{2})-([\\d]{2})-([\\d]{4})', '12-07-2023')\nprint(grp)\n\n",
      "metadata": {
        "trusted": true
      },
      "execution_count": 12,
      "outputs": [
        {
          "name": "stdout",
          "text": "<re.Match object; span=(0, 1), match='5'>\n<re.Match object; span=(0, 10), match='12-07-2023'>\n",
          "output_type": "stream"
        }
      ]
    },
    {
      "cell_type": "code",
      "source": "grp = re.search(r'([\\d]{2})-([\\d]{2})-([\\d]{4})','14-07-2023')\nprint(grp.groups())\n('14', '07', '2023')\n#Retrieve a single group\n#Upon passing the index to a group method, you can retrieve just a \nsingle group.\ngrp = re.search(r'([\\d]{2})-([\\d]{2})-([\\d]{4})','14-07-2023')\nprint(grp.group(3))",
      "metadata": {},
      "execution_count": null,
      "outputs": []
    }
  ]
}