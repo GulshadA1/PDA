{
  "metadata": {
    "language_info": {
      "codemirror_mode": {
        "name": "python",
        "version": 3
      },
      "file_extension": ".py",
      "mimetype": "text/x-python",
      "name": "python",
      "nbconvert_exporter": "python",
      "pygments_lexer": "ipython3",
      "version": "3.8"
    },
    "kernelspec": {
      "name": "python",
      "display_name": "Python (Pyodide)",
      "language": "python"
    }
  },
  "nbformat_minor": 4,
  "nbformat": 4,
  "cells": [
    {
      "cell_type": "code",
      "source": "import pandas as pd\narr = [4,6,7,8,9,5]\nseries_obj = pd.Series(arr)\na = series_obj.values\na\n",
      "metadata": {
        "trusted": true
      },
      "execution_count": 2,
      "outputs": [
        {
          "execution_count": 2,
          "output_type": "execute_result",
          "data": {
            "text/plain": "array([4, 6, 7, 8, 9, 5], dtype=int64)"
          },
          "metadata": {}
        }
      ]
    },
    {
      "cell_type": "code",
      "source": "reshaped_arr = a.reshape((3,2))\nreshaped_arr",
      "metadata": {
        "trusted": true
      },
      "execution_count": 3,
      "outputs": [
        {
          "execution_count": 3,
          "output_type": "execute_result",
          "data": {
            "text/plain": "array([[4, 6],\n       [7, 8],\n       [9, 5]], dtype=int64)"
          },
          "metadata": {}
        }
      ]
    },
    {
      "cell_type": "code",
      "source": "",
      "metadata": {
        "trusted": true
      },
      "execution_count": 6,
      "outputs": [
        {
          "name": "stdout",
          "text": "Given Series:\n 0      sone\n1      monu\n2    ankita\n3     angel\n4      rani\n5      riya\ndtype: object\n",
          "output_type": "stream"
        },
        {
          "execution_count": 6,
          "output_type": "execute_result",
          "data": {
            "text/plain": "array(['sone', 'monu', 'ankita', 'angel', 'rani', 'riya'], dtype=object)"
          },
          "metadata": {}
        }
      ]
    },
    {
      "cell_type": "code",
      "source": "nameList = [\"sone\",\"monu\",\"ankita\",\"angel\",\"rani\",\"riya\"]\nobj= pd.Series(nameList)\nprint(\"Given Series:\\n\", obj)\narr = obj.values\narr",
      "metadata": {
        "trusted": true
      },
      "execution_count": 7,
      "outputs": [
        {
          "name": "stdout",
          "text": "Given Series:\n 0      sone\n1      monu\n2    ankita\n3     angel\n4      rani\n5      riya\ndtype: object\n",
          "output_type": "stream"
        },
        {
          "execution_count": 7,
          "output_type": "execute_result",
          "data": {
            "text/plain": "array(['sone', 'monu', 'ankita', 'angel', 'rani', 'riya'], dtype=object)"
          },
          "metadata": {}
        }
      ]
    },
    {
      "cell_type": "code",
      "source": "nameList = [\"sone\",\"monu\",\"ankita\",\"angel\",\"rani\",\"riya\"]\nobj= pd.Series(nameList)\nprint(\"Given Series:\\n\", obj)\narr = obj.values\narr",
      "metadata": {
        "trusted": true
      },
      "execution_count": 8,
      "outputs": [
        {
          "name": "stdout",
          "text": "Given Series:\n 0      sone\n1      monu\n2    ankita\n3     angel\n4      rani\n5      riya\ndtype: object\n",
          "output_type": "stream"
        },
        {
          "execution_count": 8,
          "output_type": "execute_result",
          "data": {
            "text/plain": "array(['sone', 'monu', 'ankita', 'angel', 'rani', 'riya'], dtype=object)"
          },
          "metadata": {}
        }
      ]
    },
    {
      "cell_type": "code",
      "source": "rshaped_arr = arr.reshape((2,3))\nprint(rshaped_arr",
      "metadata": {
        "trusted": true
      },
      "execution_count": 12,
      "outputs": [
        {
          "execution_count": 13,
          "output_type": "execute_result",
          "data": {
            "text/plain": "array([['sone', 'monu', 'ankita'],\n       ['angel', 'rani', 'riya']], dtype=object)"
          },
          "metadata": {}
        }
      ]
    },
    {
      "cell_type": "code",
      "source": "import pandas as pd\n#dataframe\ndf = pd.DataFrame({'A': ['mamun', 'gulu', 'saifu'],\n'B': ['Masters', 'Masters', 'Phd_React'],\n'C': [27, 23, 21]})\ndf",
      "metadata": {
        "trusted": true
      },
      "execution_count": 14,
      "outputs": [
        {
          "execution_count": 14,
          "output_type": "execute_result",
          "data": {
            "text/plain": "       A          B   C\n0  mamun    Masters  27\n1   gulu    Masters  23\n2  saifu  Phd_React  21",
            "text/html": "<div>\n<style scoped>\n    .dataframe tbody tr th:only-of-type {\n        vertical-align: middle;\n    }\n\n    .dataframe tbody tr th {\n        vertical-align: top;\n    }\n\n    .dataframe thead th {\n        text-align: right;\n    }\n</style>\n<table border=\"1\" class=\"dataframe\">\n  <thead>\n    <tr style=\"text-align: right;\">\n      <th></th>\n      <th>A</th>\n      <th>B</th>\n      <th>C</th>\n    </tr>\n  </thead>\n  <tbody>\n    <tr>\n      <th>0</th>\n      <td>mamun</td>\n      <td>Masters</td>\n      <td>27</td>\n    </tr>\n    <tr>\n      <th>1</th>\n      <td>gulu</td>\n      <td>Masters</td>\n      <td>23</td>\n    </tr>\n    <tr>\n      <th>2</th>\n      <td>saifu</td>\n      <td>Phd_React</td>\n      <td>21</td>\n    </tr>\n  </tbody>\n</table>\n</div>"
          },
          "metadata": {}
        }
      ]
    },
    {
      "cell_type": "code",
      "source": "df.pivot('A', 'B', 'C')\n",
      "metadata": {
        "trusted": true
      },
      "execution_count": 15,
      "outputs": [
        {
          "name": "stderr",
          "text": "<ipython-input-15-d3da59eff764>:1: FutureWarning: In a future version of pandas all arguments of DataFrame.pivot will be keyword-only.\n  df.pivot('A', 'B', 'C')\n",
          "output_type": "stream"
        },
        {
          "execution_count": 15,
          "output_type": "execute_result",
          "data": {
            "text/plain": "B      Masters  Phd_React\nA                        \ngulu      23.0        NaN\nmamun     27.0        NaN\nsaifu      NaN       21.0",
            "text/html": "<div>\n<style scoped>\n    .dataframe tbody tr th:only-of-type {\n        vertical-align: middle;\n    }\n\n    .dataframe tbody tr th {\n        vertical-align: top;\n    }\n\n    .dataframe thead th {\n        text-align: right;\n    }\n</style>\n<table border=\"1\" class=\"dataframe\">\n  <thead>\n    <tr style=\"text-align: right;\">\n      <th>B</th>\n      <th>Masters</th>\n      <th>Phd_React</th>\n    </tr>\n    <tr>\n      <th>A</th>\n      <th></th>\n      <th></th>\n    </tr>\n  </thead>\n  <tbody>\n    <tr>\n      <th>gulu</th>\n      <td>23.0</td>\n      <td>NaN</td>\n    </tr>\n    <tr>\n      <th>mamun</th>\n      <td>27.0</td>\n      <td>NaN</td>\n    </tr>\n    <tr>\n      <th>saifu</th>\n      <td>NaN</td>\n      <td>21.0</td>\n    </tr>\n  </tbody>\n</table>\n</div>"
          },
          "metadata": {}
        }
      ]
    },
    {
      "cell_type": "code",
      "source": "df.pivot(index ='A', columns ='B', values =['C', 'A'])",
      "metadata": {
        "trusted": true
      },
      "execution_count": 16,
      "outputs": [
        {
          "execution_count": 16,
          "output_type": "execute_result",
          "data": {
            "text/plain": "            C                 A          \nB     Masters Phd_React Masters Phd_React\nA                                        \ngulu       23       NaN    gulu       NaN\nmamun      27       NaN   mamun       NaN\nsaifu     NaN        21     NaN     saifu",
            "text/html": "<div>\n<style scoped>\n    .dataframe tbody tr th:only-of-type {\n        vertical-align: middle;\n    }\n\n    .dataframe tbody tr th {\n        vertical-align: top;\n    }\n\n    .dataframe thead tr th {\n        text-align: left;\n    }\n\n    .dataframe thead tr:last-of-type th {\n        text-align: right;\n    }\n</style>\n<table border=\"1\" class=\"dataframe\">\n  <thead>\n    <tr>\n      <th></th>\n      <th colspan=\"2\" halign=\"left\">C</th>\n      <th colspan=\"2\" halign=\"left\">A</th>\n    </tr>\n    <tr>\n      <th>B</th>\n      <th>Masters</th>\n      <th>Phd_React</th>\n      <th>Masters</th>\n      <th>Phd_React</th>\n    </tr>\n    <tr>\n      <th>A</th>\n      <th></th>\n      <th></th>\n      <th></th>\n      <th></th>\n    </tr>\n  </thead>\n  <tbody>\n    <tr>\n      <th>gulu</th>\n      <td>23</td>\n      <td>NaN</td>\n      <td>gulu</td>\n      <td>NaN</td>\n    </tr>\n    <tr>\n      <th>mamun</th>\n      <td>27</td>\n      <td>NaN</td>\n      <td>mamun</td>\n      <td>NaN</td>\n    </tr>\n    <tr>\n      <th>saifu</th>\n      <td>NaN</td>\n      <td>21</td>\n      <td>NaN</td>\n      <td>saifu</td>\n    </tr>\n  </tbody>\n</table>\n</div>"
          },
          "metadata": {}
        }
      ]
    },
    {
      "cell_type": "code",
      "source": "import pandas as pd\n\ndf = pd.DataFrame({'Name': ['Monu', 'Soni', 'Stepni', 'Joe Rogan', 'Emily Clark', 'Tom Holand'],\n'Gender': ['Male', 'Female', 'Female',\n'Male', 'Female', 'Male'],\n'Age': [35, 33, 45, 21, 12, 35]})\n\nprint(\"Dataset\\n\",df)\n#print()\nprint(\"-\"*40)\n\n# categorizing in age groups\ndef age_bucket(age):\n    if age <= 18:\n        return \"<18\"\n    else:\n        return \">18\"\n\ndf['Age Group'] = df['Age'].apply(age_bucket)\n\n# calculating gender percentage\n\ngender = pd.DataFrame(df.Gender.value_counts(normalize=True)*100).reset_index()\ngender.columns = ['Gender', '%Gender']\n\ndf = pd.merge(left=df, right=gender, how='inner', on=['Gender'])\n\n# creating pivot table\ntable = pd.pivot_table(df, index=['Gender', '%Gender', 'Age Group'],\nvalues=['Name'], aggfunc={'Name': 'count',})\n\nprint(\"Table\")\nprint(table)\n",
      "metadata": {
        "trusted": true
      },
      "execution_count": 17,
      "outputs": [
        {
          "name": "stdout",
          "text": "Dataset\n           Name  Gender  Age\n0         Monu    Male   35\n1         Soni  Female   33\n2       Stepni  Female   45\n3    Joe Rogan    Male   21\n4  Emily Clark  Female   12\n5   Tom Holand    Male   35\n----------------------------------------\nTable\n                          Name\nGender %Gender Age Group      \nFemale 50.0    <18           1\n               >18           2\nMale   50.0    >18           3\n",
          "output_type": "stream"
        }
      ]
    },
    {
      "cell_type": "code",
      "source": "",
      "metadata": {},
      "execution_count": null,
      "outputs": []
    }
  ]
}