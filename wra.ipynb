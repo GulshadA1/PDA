{
  "metadata": {
    "language_info": {
      "codemirror_mode": {
        "name": "python",
        "version": 3
      },
      "file_extension": ".py",
      "mimetype": "text/x-python",
      "name": "python",
      "nbconvert_exporter": "python",
      "pygments_lexer": "ipython3",
      "version": "3.8"
    },
    "kernelspec": {
      "name": "python",
      "display_name": "Python (Pyodide)",
      "language": "python"
    }
  },
  "nbformat_minor": 4,
  "nbformat": 4,
  "cells": [
    {
      "cell_type": "code",
      "source": "import pandas as pd\n \n# Assign data\ndata = {'Name': ['Jai', 'Princi', 'Gaurav',\n                 'Anuj', 'Ravi', 'Natasha', 'Riya'],\n        'Age': [17, 17, 18, 17, 18, 17, 17],\n        'Gender': ['M', 'F', 'M', 'M', 'M', 'F', 'F'],\n        'Marks': [90, 76, 'NaN', 74, 65, 'NaN', 71]}\n \n# Convert into DataFrame\ndf = pd.DataFrame(data)\n \n# Display data\ndf",
      "metadata": {
        "trusted": true
      },
      "execution_count": 2,
      "outputs": [
        {
          "execution_count": 2,
          "output_type": "execute_result",
          "data": {
            "text/plain": "      Name  Age Gender Marks\n0      Jai   17      M    90\n1   Princi   17      F    76\n2   Gaurav   18      M   NaN\n3     Anuj   17      M    74\n4     Ravi   18      M    65\n5  Natasha   17      F   NaN\n6     Riya   17      F    71",
            "text/html": "<div>\n<style scoped>\n    .dataframe tbody tr th:only-of-type {\n        vertical-align: middle;\n    }\n\n    .dataframe tbody tr th {\n        vertical-align: top;\n    }\n\n    .dataframe thead th {\n        text-align: right;\n    }\n</style>\n<table border=\"1\" class=\"dataframe\">\n  <thead>\n    <tr style=\"text-align: right;\">\n      <th></th>\n      <th>Name</th>\n      <th>Age</th>\n      <th>Gender</th>\n      <th>Marks</th>\n    </tr>\n  </thead>\n  <tbody>\n    <tr>\n      <th>0</th>\n      <td>Jai</td>\n      <td>17</td>\n      <td>M</td>\n      <td>90</td>\n    </tr>\n    <tr>\n      <th>1</th>\n      <td>Princi</td>\n      <td>17</td>\n      <td>F</td>\n      <td>76</td>\n    </tr>\n    <tr>\n      <th>2</th>\n      <td>Gaurav</td>\n      <td>18</td>\n      <td>M</td>\n      <td>NaN</td>\n    </tr>\n    <tr>\n      <th>3</th>\n      <td>Anuj</td>\n      <td>17</td>\n      <td>M</td>\n      <td>74</td>\n    </tr>\n    <tr>\n      <th>4</th>\n      <td>Ravi</td>\n      <td>18</td>\n      <td>M</td>\n      <td>65</td>\n    </tr>\n    <tr>\n      <th>5</th>\n      <td>Natasha</td>\n      <td>17</td>\n      <td>F</td>\n      <td>NaN</td>\n    </tr>\n    <tr>\n      <th>6</th>\n      <td>Riya</td>\n      <td>17</td>\n      <td>F</td>\n      <td>71</td>\n    </tr>\n  </tbody>\n</table>\n</div>"
          },
          "metadata": {}
        }
      ]
    },
    {
      "cell_type": "code",
      "source": "# Dealing with missing values\n# Compute average\nc = avg = 0\nfor ele in df['Marks']:\n    if str(ele).isnumeric():\n        c += 1\n        avg += ele\navg /= c\n\n# Replace missing values\ndf = df.replace(to_replace=\"NaN\",\n                value=avg)\n \n# Display data\ndf",
      "metadata": {
        "trusted": true
      },
      "execution_count": 7,
      "outputs": [
        {
          "execution_count": 7,
          "output_type": "execute_result",
          "data": {
            "text/plain": "      Name  Age Gender  Marks\n0      Jai   17      M   90.0\n1   Princi   17      F   76.0\n2   Gaurav   18      M   75.2\n3     Anuj   17      M   74.0\n4     Ravi   18      M   65.0\n5  Natasha   17      F   75.2\n6     Riya   17      F   71.0",
            "text/html": "<div>\n<style scoped>\n    .dataframe tbody tr th:only-of-type {\n        vertical-align: middle;\n    }\n\n    .dataframe tbody tr th {\n        vertical-align: top;\n    }\n\n    .dataframe thead th {\n        text-align: right;\n    }\n</style>\n<table border=\"1\" class=\"dataframe\">\n  <thead>\n    <tr style=\"text-align: right;\">\n      <th></th>\n      <th>Name</th>\n      <th>Age</th>\n      <th>Gender</th>\n      <th>Marks</th>\n    </tr>\n  </thead>\n  <tbody>\n    <tr>\n      <th>0</th>\n      <td>Jai</td>\n      <td>17</td>\n      <td>M</td>\n      <td>90.0</td>\n    </tr>\n    <tr>\n      <th>1</th>\n      <td>Princi</td>\n      <td>17</td>\n      <td>F</td>\n      <td>76.0</td>\n    </tr>\n    <tr>\n      <th>2</th>\n      <td>Gaurav</td>\n      <td>18</td>\n      <td>M</td>\n      <td>75.2</td>\n    </tr>\n    <tr>\n      <th>3</th>\n      <td>Anuj</td>\n      <td>17</td>\n      <td>M</td>\n      <td>74.0</td>\n    </tr>\n    <tr>\n      <th>4</th>\n      <td>Ravi</td>\n      <td>18</td>\n      <td>M</td>\n      <td>65.0</td>\n    </tr>\n    <tr>\n      <th>5</th>\n      <td>Natasha</td>\n      <td>17</td>\n      <td>F</td>\n      <td>75.2</td>\n    </tr>\n    <tr>\n      <th>6</th>\n      <td>Riya</td>\n      <td>17</td>\n      <td>F</td>\n      <td>71.0</td>\n    </tr>\n  </tbody>\n</table>\n</div>"
          },
          "metadata": {}
        }
      ]
    },
    {
      "cell_type": "code",
      "source": "# Data Replacing in Data Wrangling\n# in the GENDER column, we can replace the Gender column data by categorizing them into different numbers.\n\n# Categorize gender\ndf['Gender'] = df['Gender'].map({'M': 0,\n                                 'F': 1, }).astype(float)\n \n# Display data\ndf",
      "metadata": {
        "trusted": true
      },
      "execution_count": 8,
      "outputs": [
        {
          "execution_count": 8,
          "output_type": "execute_result",
          "data": {
            "text/plain": "      Name  Age  Gender  Marks\n0      Jai   17     0.0   90.0\n1   Princi   17     1.0   76.0\n2   Gaurav   18     0.0   75.2\n3     Anuj   17     0.0   74.0\n4     Ravi   18     0.0   65.0\n5  Natasha   17     1.0   75.2\n6     Riya   17     1.0   71.0",
            "text/html": "<div>\n<style scoped>\n    .dataframe tbody tr th:only-of-type {\n        vertical-align: middle;\n    }\n\n    .dataframe tbody tr th {\n        vertical-align: top;\n    }\n\n    .dataframe thead th {\n        text-align: right;\n    }\n</style>\n<table border=\"1\" class=\"dataframe\">\n  <thead>\n    <tr style=\"text-align: right;\">\n      <th></th>\n      <th>Name</th>\n      <th>Age</th>\n      <th>Gender</th>\n      <th>Marks</th>\n    </tr>\n  </thead>\n  <tbody>\n    <tr>\n      <th>0</th>\n      <td>Jai</td>\n      <td>17</td>\n      <td>0.0</td>\n      <td>90.0</td>\n    </tr>\n    <tr>\n      <th>1</th>\n      <td>Princi</td>\n      <td>17</td>\n      <td>1.0</td>\n      <td>76.0</td>\n    </tr>\n    <tr>\n      <th>2</th>\n      <td>Gaurav</td>\n      <td>18</td>\n      <td>0.0</td>\n      <td>75.2</td>\n    </tr>\n    <tr>\n      <th>3</th>\n      <td>Anuj</td>\n      <td>17</td>\n      <td>0.0</td>\n      <td>74.0</td>\n    </tr>\n    <tr>\n      <th>4</th>\n      <td>Ravi</td>\n      <td>18</td>\n      <td>0.0</td>\n      <td>65.0</td>\n    </tr>\n    <tr>\n      <th>5</th>\n      <td>Natasha</td>\n      <td>17</td>\n      <td>1.0</td>\n      <td>75.2</td>\n    </tr>\n    <tr>\n      <th>6</th>\n      <td>Riya</td>\n      <td>17</td>\n      <td>1.0</td>\n      <td>71.0</td>\n    </tr>\n  </tbody>\n</table>\n</div>"
          },
          "metadata": {}
        }
      ]
    },
    {
      "cell_type": "code",
      "source": "# Filter top scoring students\ndf = df[df['Marks'] >= 70].copy()\ndf\n",
      "metadata": {
        "trusted": true
      },
      "execution_count": 31,
      "outputs": [
        {
          "execution_count": 31,
          "output_type": "execute_result",
          "data": {
            "text/plain": "  Name  Gender  Marks\n0  Jai     0.0   90.0",
            "text/html": "<div>\n<style scoped>\n    .dataframe tbody tr th:only-of-type {\n        vertical-align: middle;\n    }\n\n    .dataframe tbody tr th {\n        vertical-align: top;\n    }\n\n    .dataframe thead th {\n        text-align: right;\n    }\n</style>\n<table border=\"1\" class=\"dataframe\">\n  <thead>\n    <tr style=\"text-align: right;\">\n      <th></th>\n      <th>Name</th>\n      <th>Gender</th>\n      <th>Marks</th>\n    </tr>\n  </thead>\n  <tbody>\n    <tr>\n      <th>0</th>\n      <td>Jai</td>\n      <td>0.0</td>\n      <td>90.0</td>\n    </tr>\n  </tbody>\n</table>\n</div>"
          },
          "metadata": {}
        }
      ]
    },
    {
      "cell_type": "code",
      "source": "# Data Wrangling  Using Merge Operation\n#Merge operation is used to merge two raw data into the desired format.\n\n#Syntax: pd.merge( data_frame1,data_frame2, on=”field “) ",
      "metadata": {},
      "execution_count": null,
      "outputs": []
    },
    {
      "cell_type": "code",
      "source": "\nimport pandas as pd\n\n# creating DataFrame for Student Details\ndetails = pd.DataFrame({\n'ID': [101, 102, 103, 104, 105, 106,\n107, 108, 109, 110],\n'NAME': ['Jagroop', 'Praveen', 'Harjot',\n'Pooja', 'Rahul', 'Nikita',\n'Saurabh', 'Ayush', 'Dolly', \"Mohit\"],\n'BRANCH': ['CSE', 'CSE', 'CSE', 'CSE', 'CSE',\n'CSE', 'CSE', 'CSE', 'CSE', 'CSE']})\n\n# printing details\nprint(details)\n",
      "metadata": {
        "tags": [],
        "trusted": true
      },
      "execution_count": 40,
      "outputs": [
        {
          "name": "stdout",
          "text": "    ID     NAME BRANCH\n0  101  Jagroop    CSE\n1  102  Praveen    CSE\n2  103   Harjot    CSE\n3  104    Pooja    CSE\n4  105    Rahul    CSE\n5  106   Nikita    CSE\n6  107  Saurabh    CSE\n7  108    Ayush    CSE\n8  109    Dolly    CSE\n9  110    Mohit    CSE\n",
          "output_type": "stream"
        }
      ]
    },
    {
      "cell_type": "code",
      "source": "\nimport pandas as pd\n\n# Creating Dataframe for Fees_Status\nfees_status = pd.DataFrame(\n{'ID': [101, 102, 103, 104, 105,\n106, 107, 108, 109, 110],\n'PENDING': ['5000', '250', 'NIL',\n'9000', '15000', 'NIL',\n'4500', '1800', '250', 'NIL']})\n\n# Printing fees_status\nprint(fees_status)\n",
      "metadata": {
        "tags": [],
        "trusted": true
      },
      "execution_count": 34,
      "outputs": [
        {
          "name": "stdout",
          "text": "    ID PENDING\n0  101    5000\n1  102     250\n2  103     NIL\n3  104    9000\n4  105   15000\n5  106     NIL\n6  107    4500\n7  108    1800\n8  109     250\n9  110     NIL\n",
          "output_type": "stream"
        }
      ]
    },
    {
      "cell_type": "code",
      "source": "\nimport pandas as pd\n\n# Creating Dataframe\ndetails = pd.DataFrame({\n'ID': [101, 102, 103, 104, 105,\n106, 107, 108, 109, 110],\n'NAME': ['Jagroop', 'Praveen', 'Harjot',\n'Pooja', 'Rahul', 'Nikita',\n'Saurabh', 'Ayush', 'Dolly', \"Mohit\"],\n'BRANCH': ['CSE', 'CSE', 'CSE', 'CSE', 'CSE',\n'CSE', 'CSE', 'CSE', 'CSE', 'CSE']})\n\n# Creating Dataframe\nfees_status = pd.DataFrame(\n{'ID': [101, 102, 103, 104, 105,\n106, 107, 108, 109, 110],\n'PENDING': ['5000', '250', 'NIL',\n'9000', '15000', 'NIL',\n'4500', '1800', '250', 'NIL']})\n\n# Merging Dataframe\nprint(pd.merge(details, fees_status, on='ID'))\n",
      "metadata": {
        "trusted": true
      },
      "execution_count": 35,
      "outputs": [
        {
          "name": "stdout",
          "text": "    ID     NAME BRANCH PENDING\n0  101  Jagroop    CSE    5000\n1  102  Praveen    CSE     250\n2  103   Harjot    CSE     NIL\n3  104    Pooja    CSE    9000\n4  105    Rahul    CSE   15000\n5  106   Nikita    CSE     NIL\n6  107  Saurabh    CSE    4500\n7  108    Ayush    CSE    1800\n8  109    Dolly    CSE     250\n9  110    Mohit    CSE     NIL\n",
          "output_type": "stream"
        }
      ]
    },
    {
      "cell_type": "code",
      "source": "# Data Wrangling Using Grouping Method \n# Using groupby() method.",
      "metadata": {},
      "execution_count": null,
      "outputs": []
    },
    {
      "cell_type": "code",
      "source": "\nimport pandas as pd\n\n# Creating Data\ncar_selling_data = {'Brand': ['Maruti', 'Maruti', 'Maruti',\n                            'Maruti', 'Hyundai', 'Hyundai',\n                            'Toyota', 'Mahindra', 'Mahindra',\n                            'Ford', 'Toyota', 'Ford'],\n                    'Year': [2010, 2011, 2009, 2013,\n                            2010, 2011, 2011, 2010,\n                            2013, 2010, 2010, 2011],\n                    'Sold': [6, 7, 9, 8, 3, 5,\n                            2, 8, 7, 2, 4, 2]}\n\n# Creating Dataframe of car_selling_data\ndf = pd.DataFrame(car_selling_data)\n\n# printing Dataframe\nprint(df)\n",
      "metadata": {
        "trusted": true
      },
      "execution_count": 36,
      "outputs": [
        {
          "name": "stdout",
          "text": "       Brand  Year  Sold\n0     Maruti  2010     6\n1     Maruti  2011     7\n2     Maruti  2009     9\n3     Maruti  2013     8\n4    Hyundai  2010     3\n5    Hyundai  2011     5\n6     Toyota  2011     2\n7   Mahindra  2010     8\n8   Mahindra  2013     7\n9       Ford  2010     2\n10    Toyota  2010     4\n11      Ford  2011     2\n",
          "output_type": "stream"
        }
      ]
    },
    {
      "cell_type": "code",
      "source": "# Creating Dataframe to use Grouping methods[DATA OF THE YEAR 2010]:",
      "metadata": {},
      "execution_count": null,
      "outputs": []
    },
    {
      "cell_type": "code",
      "source": "\nimport pandas as pd\n\n# Creating Data\ncar_selling_data = {'Brand': ['Maruti', 'Maruti', 'Maruti',\n                            'Maruti', 'Hyundai', 'Hyundai',\n                            'Toyota', 'Mahindra', 'Mahindra',\n                            'Ford', 'Toyota', 'Ford'],\n                    'Year': [2010, 2011, 2009, 2013,\n                            2010, 2011, 2011, 2010,\n                            2013, 2010, 2010, 2011],\n                    'Sold': [6, 7, 9, 8, 3, 5,\n                            2, 8, 7, 2, 4, 2]}\n\n# Creating Dataframe for Provided Data\ndf = pd.DataFrame(car_selling_data)\n\n# Group the data when year = 2010\ngrouped = df.groupby('Year')\nprint(grouped.get_group(2010))\n",
      "metadata": {
        "trusted": true
      },
      "execution_count": 37,
      "outputs": [
        {
          "name": "stdout",
          "text": "       Brand  Year  Sold\n0     Maruti  2010     6\n4    Hyundai  2010     3\n7   Mahindra  2010     8\n9       Ford  2010     2\n10    Toyota  2010     4\n",
          "output_type": "stream"
        }
      ]
    },
    {
      "cell_type": "code",
      "source": "# Data Wrangling  by Removing Duplication\n# Pandas duplicates() method helps us to remove duplicate values from Large Data\n\n# Syntax: DataFrame.duplicated(subset=None, keep=’first’)\n\n#Here subset is the column value where we want to remove the Duplicate value.\n\n#In keeping, we have 3 options :\n\n#if keep =’first’ then the first value is marked as the original rest of all values if occur will be removed as it is considered duplicate.\n#if keep=’last’ then the last value is marked as the original rest the above same values will be removed as it is considered duplicate values.\n#if keep =’false’ all the values which occur more than once will be removed as all are considered duplicate values.",
      "metadata": {},
      "execution_count": null,
      "outputs": []
    },
    {
      "cell_type": "code",
      "source": "\nimport pandas as pd\n\n# Initializing Data\nstudent_data = {'Name': ['Amit', 'Praveen', 'Jagroop',\n                        'Rahul', 'Vishal', 'Suraj',\n                        'Rishab', 'Satyapal', 'Amit',\n                        'Rahul', 'Praveen', 'Amit'],\n\n                'Roll_no': [23, 54, 29, 36, 59, 38,\n                            12, 45, 34, 36, 54, 23],\n\n                'Email': ['xxxx@gmail.com', 'xxxxxx@gmail.com',\n                        'xxxxxx@gmail.com', 'xx@gmail.com',\n                        'xxxx@gmail.com', 'xxxxx@gmail.com',\n                        'xxxxx@gmail.com', 'xxxxx@gmail.com',\n                        'xxxxx@gmail.com', 'xxxxxx@gmail.com',\n                        'xxxxxxxxxx@gmail.com', 'xxxxxxxxxx@gmail.com']}\n\n# Creating Dataframe of Data\ndf = pd.DataFrame(student_data)\n\n# Printing Dataframe\nprint(df)\n",
      "metadata": {
        "trusted": true
      },
      "execution_count": 38,
      "outputs": [
        {
          "name": "stdout",
          "text": "        Name  Roll_no                 Email\n0       Amit       23        xxxx@gmail.com\n1    Praveen       54      xxxxxx@gmail.com\n2    Jagroop       29      xxxxxx@gmail.com\n3      Rahul       36          xx@gmail.com\n4     Vishal       59        xxxx@gmail.com\n5      Suraj       38       xxxxx@gmail.com\n6     Rishab       12       xxxxx@gmail.com\n7   Satyapal       45       xxxxx@gmail.com\n8       Amit       34       xxxxx@gmail.com\n9      Rahul       36      xxxxxx@gmail.com\n10   Praveen       54  xxxxxxxxxx@gmail.com\n11      Amit       23  xxxxxxxxxx@gmail.com\n",
          "output_type": "stream"
        }
      ]
    },
    {
      "cell_type": "code",
      "source": "# Removing Duplicate data from the Dataset using Data wrangling:",
      "metadata": {},
      "execution_count": null,
      "outputs": []
    },
    {
      "cell_type": "code",
      "source": "\nimport pandas as pd\n\n# initializing Data\nstudent_data = {'Name': ['Amit', 'Praveen', 'Jagroop',\n                        'Rahul', 'Vishal', 'Suraj',\n                        'Rishab', 'Satyapal', 'Amit',\n                        'Rahul', 'Praveen', 'Amit'],\n\n                'Roll_no': [23, 54, 29, 36, 59, 38,\n                            12, 45, 34, 36, 54, 23],\n\n                'Email': ['xxxx@gmail.com', 'xxxxxx@gmail.com',\n                        'xxxxxx@gmail.com', 'xx@gmail.com',\n                        'xxxx@gmail.com', 'xxxxx@gmail.com',\n                        'xxxxx@gmail.com', 'xxxxx@gmail.com',\n                        'xxxxx@gmail.com', 'xxxxxx@gmail.com',\n                        'xxxxxxxxxx@gmail.com', 'xxxxxxxxxx@gmail.com']}\n\n# creating dataframe\ndf = pd.DataFrame(student_data)\n\n# Here df.duplicated() list duplicate Entries in ROllno.\n# So that ~(NOT) is placed in order to get non duplicate values.\nnon_duplicate = df[~df.duplicated('Roll_no')]\n\n# printing non-duplicate values\nprint(non_duplicate)\n",
      "metadata": {
        "trusted": true
      },
      "execution_count": 39,
      "outputs": [
        {
          "name": "stdout",
          "text": "       Name  Roll_no             Email\n0      Amit       23    xxxx@gmail.com\n1   Praveen       54  xxxxxx@gmail.com\n2   Jagroop       29  xxxxxx@gmail.com\n3     Rahul       36      xx@gmail.com\n4    Vishal       59    xxxx@gmail.com\n5     Suraj       38   xxxxx@gmail.com\n6    Rishab       12   xxxxx@gmail.com\n7  Satyapal       45   xxxxx@gmail.com\n8      Amit       34   xxxxx@gmail.com\n",
          "output_type": "stream"
        }
      ]
    },
    {
      "cell_type": "code",
      "source": "# Creating New Datasets Using the Concatenation of Two Datasets In Data Wrangling.\n",
      "metadata": {},
      "execution_count": null,
      "outputs": []
    },
    {
      "cell_type": "code",
      "source": "\nimport pandas as pd\n   \n# Define a dictionary containing employee data\ndata1 = {'Name':['Jai', 'Princi', 'Gaurav', 'Anuj'],\n        'Age':[27, 24, 22, 32],\n        'Address':['Nagpur', 'Kanpur', 'Allahabad', 'Kannuaj'],\n        'Qualification':['Msc', 'MA', 'MCA', 'Phd'],\n        'Mobile No': [97, 91, 58, 76]}\n     \n# Define a dictionary containing employee data\ndata2 = {'Name':['Gaurav', 'Anuj', 'Dhiraj', 'Hitesh'],\n        'Age':[22, 32, 12, 52],\n        'Address':['Allahabad', 'Kannuaj', 'Allahabad', 'Kannuaj'],\n        'Qualification':['MCA', 'Phd', 'Bcom', 'B.hons'],\n        'Salary':[1000, 2000, 3000, 4000]}\n   \n# Convert the dictionary into DataFrame \ndf = pd.DataFrame(data1,index=[0, 1, 2, 3])\n   \n# Convert the dictionary into DataFrame \ndf1 = pd.DataFrame(data2, index=[2, 3, 6, 7])\n",
      "metadata": {
        "trusted": true
      },
      "execution_count": 46,
      "outputs": []
    },
    {
      "cell_type": "code",
      "source": "res = pd.concat([df, df1])",
      "metadata": {
        "trusted": true
      },
      "execution_count": 49,
      "outputs": []
    },
    {
      "cell_type": "code",
      "source": "",
      "metadata": {},
      "execution_count": null,
      "outputs": []
    }
  ]
}