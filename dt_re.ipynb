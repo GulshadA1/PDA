{
  "metadata": {
    "language_info": {
      "codemirror_mode": {
        "name": "python",
        "version": 3
      },
      "file_extension": ".py",
      "mimetype": "text/x-python",
      "name": "python",
      "nbconvert_exporter": "python",
      "pygments_lexer": "ipython3",
      "version": "3.8"
    },
    "kernelspec": {
      "name": "python",
      "display_name": "Python (Pyodide)",
      "language": "python"
    }
  },
  "nbformat_minor": 4,
  "nbformat": 4,
  "cells": [
    {
      "cell_type": "code",
      "source": "import pandas as pd\nimport pandas as pd\ndf = pd.DataFrame({ \"A\":[14, 3, 3, None, 1],\n                    \"B\":[5, 6, 34, 23, None],\n                    \"C\":[8 , 9, 1, 13, 52],\n                    \"D\":[5, 5, None, 77, 99]})\nindex_ = ['row1', 'row2', 'row3', 'row4', 'row5']\n# Set the index\ndf.index = index_\ndf\n",
      "metadata": {
        "trusted": true
      },
      "execution_count": 5,
      "outputs": [
        {
          "execution_count": 5,
          "output_type": "execute_result",
          "data": {
            "text/plain": "         A     B   C     D\nrow1  14.0   5.0   8   5.0\nrow2   3.0   6.0   9   5.0\nrow3   3.0  34.0   1   NaN\nrow4   NaN  23.0  13  77.0\nrow5   1.0   NaN  52  99.0",
            "text/html": "<div>\n<style scoped>\n    .dataframe tbody tr th:only-of-type {\n        vertical-align: middle;\n    }\n\n    .dataframe tbody tr th {\n        vertical-align: top;\n    }\n\n    .dataframe thead th {\n        text-align: right;\n    }\n</style>\n<table border=\"1\" class=\"dataframe\">\n  <thead>\n    <tr style=\"text-align: right;\">\n      <th></th>\n      <th>A</th>\n      <th>B</th>\n      <th>C</th>\n      <th>D</th>\n    </tr>\n  </thead>\n  <tbody>\n    <tr>\n      <th>row1</th>\n      <td>14.0</td>\n      <td>5.0</td>\n      <td>8</td>\n      <td>5.0</td>\n    </tr>\n    <tr>\n      <th>row2</th>\n      <td>3.0</td>\n      <td>6.0</td>\n      <td>9</td>\n      <td>5.0</td>\n    </tr>\n    <tr>\n      <th>row3</th>\n      <td>3.0</td>\n      <td>34.0</td>\n      <td>1</td>\n      <td>NaN</td>\n    </tr>\n    <tr>\n      <th>row4</th>\n      <td>NaN</td>\n      <td>23.0</td>\n      <td>13</td>\n      <td>77.0</td>\n    </tr>\n    <tr>\n      <th>row5</th>\n      <td>1.0</td>\n      <td>NaN</td>\n      <td>52</td>\n      <td>99.0</td>\n    </tr>\n  </tbody>\n</table>\n</div>"
          },
          "metadata": {}
        }
      ]
    },
    {
      "cell_type": "code",
      "source": "result = df.transform(func= lambda x : x + 13)\nresult",
      "metadata": {
        "trusted": true
      },
      "execution_count": 7,
      "outputs": [
        {
          "execution_count": 7,
          "output_type": "execute_result",
          "data": {
            "text/plain": "         A     B   C      D\nrow1  27.0  18.0  21   18.0\nrow2  16.0  19.0  22   18.0\nrow3  16.0  47.0  14    NaN\nrow4   NaN  36.0  26   90.0\nrow5  14.0   NaN  65  112.0",
            "text/html": "<div>\n<style scoped>\n    .dataframe tbody tr th:only-of-type {\n        vertical-align: middle;\n    }\n\n    .dataframe tbody tr th {\n        vertical-align: top;\n    }\n\n    .dataframe thead th {\n        text-align: right;\n    }\n</style>\n<table border=\"1\" class=\"dataframe\">\n  <thead>\n    <tr style=\"text-align: right;\">\n      <th></th>\n      <th>A</th>\n      <th>B</th>\n      <th>C</th>\n      <th>D</th>\n    </tr>\n  </thead>\n  <tbody>\n    <tr>\n      <th>row1</th>\n      <td>27.0</td>\n      <td>18.0</td>\n      <td>21</td>\n      <td>18.0</td>\n    </tr>\n    <tr>\n      <th>row2</th>\n      <td>16.0</td>\n      <td>19.0</td>\n      <td>22</td>\n      <td>18.0</td>\n    </tr>\n    <tr>\n      <th>row3</th>\n      <td>16.0</td>\n      <td>47.0</td>\n      <td>14</td>\n      <td>NaN</td>\n    </tr>\n    <tr>\n      <th>row4</th>\n      <td>NaN</td>\n      <td>36.0</td>\n      <td>26</td>\n      <td>90.0</td>\n    </tr>\n    <tr>\n      <th>row5</th>\n      <td>14.0</td>\n      <td>NaN</td>\n      <td>65</td>\n      <td>112.0</td>\n    </tr>\n  </tbody>\n</table>\n</div>"
          },
          "metadata": {}
        }
      ]
    },
    {
      "cell_type": "code",
      "source": "import pandas as pd\nimport pandas as pd\ndf = pd.DataFrame({ \"A\":[14, 3, 3, None, 1],\n                    \"B\":[5, 6, 34, 23, None],\n                    \"C\":[8 , 9, 1, 13, 52],\n                    \"D\":[5, 5, None, 77, 99]})\nindex_ = ['row1', 'row2', 'row3', 'row4', 'row5']\n# Set the index\ndf.index = index_\ndf\n",
      "metadata": {
        "trusted": true
      },
      "execution_count": 8,
      "outputs": [
        {
          "execution_count": 8,
          "output_type": "execute_result",
          "data": {
            "text/plain": "         A     B   C     D\nrow1  14.0   5.0   8   5.0\nrow2   3.0   6.0   9   5.0\nrow3   3.0  34.0   1   NaN\nrow4   NaN  23.0  13  77.0\nrow5   1.0   NaN  52  99.0",
            "text/html": "<div>\n<style scoped>\n    .dataframe tbody tr th:only-of-type {\n        vertical-align: middle;\n    }\n\n    .dataframe tbody tr th {\n        vertical-align: top;\n    }\n\n    .dataframe thead th {\n        text-align: right;\n    }\n</style>\n<table border=\"1\" class=\"dataframe\">\n  <thead>\n    <tr style=\"text-align: right;\">\n      <th></th>\n      <th>A</th>\n      <th>B</th>\n      <th>C</th>\n      <th>D</th>\n    </tr>\n  </thead>\n  <tbody>\n    <tr>\n      <th>row1</th>\n      <td>14.0</td>\n      <td>5.0</td>\n      <td>8</td>\n      <td>5.0</td>\n    </tr>\n    <tr>\n      <th>row2</th>\n      <td>3.0</td>\n      <td>6.0</td>\n      <td>9</td>\n      <td>5.0</td>\n    </tr>\n    <tr>\n      <th>row3</th>\n      <td>3.0</td>\n      <td>34.0</td>\n      <td>1</td>\n      <td>NaN</td>\n    </tr>\n    <tr>\n      <th>row4</th>\n      <td>NaN</td>\n      <td>23.0</td>\n      <td>13</td>\n      <td>77.0</td>\n    </tr>\n    <tr>\n      <th>row5</th>\n      <td>1.0</td>\n      <td>NaN</td>\n      <td>52</td>\n      <td>99.0</td>\n    </tr>\n  </tbody>\n</table>\n</div>"
          },
          "metadata": {}
        }
      ]
    },
    {
      "cell_type": "code",
      "source": "result = df.transform(func = ['sqrt','exp'])\nresult",
      "metadata": {
        "trusted": true
      },
      "execution_count": 9,
      "outputs": [
        {
          "execution_count": 9,
          "output_type": "execute_result",
          "data": {
            "text/plain": "             A                       B                       C                \\\n          sqrt           exp      sqrt           exp      sqrt           exp   \nrow1  3.741657  1.202604e+06  2.236068  1.484132e+02  2.828427  2.980958e+03   \nrow2  1.732051  2.008554e+01  2.449490  4.034288e+02  3.000000  8.103084e+03   \nrow3  1.732051  2.008554e+01  5.830952  5.834617e+14  1.000000  2.718282e+00   \nrow4       NaN           NaN  4.795832  9.744803e+09  3.605551  4.424134e+05   \nrow5  1.000000  2.718282e+00       NaN           NaN  7.211103  3.831008e+22   \n\n             D                \n          sqrt           exp  \nrow1  2.236068  1.484132e+02  \nrow2  2.236068  1.484132e+02  \nrow3       NaN           NaN  \nrow4  8.774964  2.758513e+33  \nrow5  9.949874  9.889030e+42  ",
            "text/html": "<div>\n<style scoped>\n    .dataframe tbody tr th:only-of-type {\n        vertical-align: middle;\n    }\n\n    .dataframe tbody tr th {\n        vertical-align: top;\n    }\n\n    .dataframe thead tr th {\n        text-align: left;\n    }\n</style>\n<table border=\"1\" class=\"dataframe\">\n  <thead>\n    <tr>\n      <th></th>\n      <th colspan=\"2\" halign=\"left\">A</th>\n      <th colspan=\"2\" halign=\"left\">B</th>\n      <th colspan=\"2\" halign=\"left\">C</th>\n      <th colspan=\"2\" halign=\"left\">D</th>\n    </tr>\n    <tr>\n      <th></th>\n      <th>sqrt</th>\n      <th>exp</th>\n      <th>sqrt</th>\n      <th>exp</th>\n      <th>sqrt</th>\n      <th>exp</th>\n      <th>sqrt</th>\n      <th>exp</th>\n    </tr>\n  </thead>\n  <tbody>\n    <tr>\n      <th>row1</th>\n      <td>3.741657</td>\n      <td>1.202604e+06</td>\n      <td>2.236068</td>\n      <td>1.484132e+02</td>\n      <td>2.828427</td>\n      <td>2.980958e+03</td>\n      <td>2.236068</td>\n      <td>1.484132e+02</td>\n    </tr>\n    <tr>\n      <th>row2</th>\n      <td>1.732051</td>\n      <td>2.008554e+01</td>\n      <td>2.449490</td>\n      <td>4.034288e+02</td>\n      <td>3.000000</td>\n      <td>8.103084e+03</td>\n      <td>2.236068</td>\n      <td>1.484132e+02</td>\n    </tr>\n    <tr>\n      <th>row3</th>\n      <td>1.732051</td>\n      <td>2.008554e+01</td>\n      <td>5.830952</td>\n      <td>5.834617e+14</td>\n      <td>1.000000</td>\n      <td>2.718282e+00</td>\n      <td>NaN</td>\n      <td>NaN</td>\n    </tr>\n    <tr>\n      <th>row4</th>\n      <td>NaN</td>\n      <td>NaN</td>\n      <td>4.795832</td>\n      <td>9.744803e+09</td>\n      <td>3.605551</td>\n      <td>4.424134e+05</td>\n      <td>8.774964</td>\n      <td>2.758513e+33</td>\n    </tr>\n    <tr>\n      <th>row5</th>\n      <td>1.000000</td>\n      <td>2.718282e+00</td>\n      <td>NaN</td>\n      <td>NaN</td>\n      <td>7.211103</td>\n      <td>3.831008e+22</td>\n      <td>9.949874</td>\n      <td>9.889030e+42</td>\n    </tr>\n  </tbody>\n</table>\n</div>"
          },
          "metadata": {}
        }
      ]
    },
    {
      "cell_type": "code",
      "source": "text = 'thiS iS aN pYThon cLAsS'\nprint(text.lower())\n\nprint(text.title())\n\nprint(text.swapcase())\n\nprint(text.capitalize())\n",
      "metadata": {
        "trusted": true
      },
      "execution_count": 10,
      "outputs": [
        {
          "name": "stdout",
          "text": "this is an python class\nThis Is An Python Class\nTHIs Is An PytHON ClaSs\nThis is an python class\n",
          "output_type": "stream"
        }
      ]
    },
    {
      "cell_type": "code",
      "source": "",
      "metadata": {},
      "execution_count": null,
      "outputs": []
    }
  ]
}